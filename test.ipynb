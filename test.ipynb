{
 "cells": [
  {
   "cell_type": "code",
   "execution_count": null,
   "metadata": {},
   "outputs": [],
   "source": [
    "# from app.prepare_data import pipeline\n",
    "\n",
    "# pipeline()"
   ]
  },
  {
   "cell_type": "code",
   "execution_count": 2,
   "metadata": {},
   "outputs": [
    {
     "data": {
      "text/plain": [
       "['data/preprocessed/test/images/wts-lg-000123.jpg',\n",
       " 'data/preprocessed/test/images/wts-lg-000095.jpg',\n",
       " 'data/preprocessed/test/images/OUH9191.jpg',\n",
       " 'data/preprocessed/test/images/OYJ9557.jpg',\n",
       " 'data/preprocessed/test/images/wts-lg-000055.jpg',\n",
       " 'data/preprocessed/test/images/wts-lg-000041.jpg',\n",
       " 'data/preprocessed/test/images/wts-lg-000135.jpg',\n",
       " 'data/preprocessed/test/images/wts-lg-000125.jpg',\n",
       " 'data/preprocessed/test/images/wts-lg-000119.jpg',\n",
       " 'data/preprocessed/test/images/wts-lg-000079.jpg',\n",
       " 'data/preprocessed/test/images/NZW2197.jpg',\n",
       " 'data/preprocessed/test/images/test_028.jpg',\n",
       " 'data/preprocessed/test/images/wts-lg-000118.jpg',\n",
       " 'data/preprocessed/test/images/NYY1710.jpg',\n",
       " 'data/preprocessed/test/images/wts-lg-000127.jpg',\n",
       " 'data/preprocessed/test/images/wts-lg-000197.jpg',\n",
       " 'data/preprocessed/test/images/us6.jpg',\n",
       " 'data/preprocessed/test/images/wts-lg-000141.jpg',\n",
       " 'data/preprocessed/test/images/wts-lg-000194.jpg',\n",
       " 'data/preprocessed/test/images/MYX3152.jpg',\n",
       " 'data/preprocessed/test/images/PJF4224.jpg',\n",
       " 'data/preprocessed/test/images/wts-lg-000036.jpg',\n",
       " 'data/preprocessed/test/images/wts-lg-000181.jpg',\n",
       " 'data/preprocessed/test/images/test_077.jpg',\n",
       " 'data/preprocessed/test/images/PYB6477.jpg',\n",
       " 'data/preprocessed/test/images/wts-lg-000145.jpg',\n",
       " 'data/preprocessed/test/images/test_075.jpg',\n",
       " 'data/preprocessed/test/images/test_061.jpg',\n",
       " 'data/preprocessed/test/images/us2.jpg',\n",
       " 'data/preprocessed/test/images/OZS6477.jpg',\n",
       " 'data/preprocessed/test/images/wts-lg-000193.jpg',\n",
       " 'data/preprocessed/test/images/test_060.jpg',\n",
       " 'data/preprocessed/test/images/wts-lg-000161.jpg',\n",
       " 'data/preprocessed/test/images/test_086.jpg',\n",
       " 'data/preprocessed/test/images/PXP8172.jpg',\n",
       " 'data/preprocessed/test/images/car19.jpg',\n",
       " 'data/preprocessed/test/images/test_050.jpg',\n",
       " 'data/preprocessed/test/images/OKP7250.jpg',\n",
       " 'data/preprocessed/test/images/NZP8292.jpg',\n",
       " 'data/preprocessed/test/images/OZL2318.jpg',\n",
       " 'data/preprocessed/test/images/wts-lg-000016.jpg',\n",
       " 'data/preprocessed/test/images/OUW5216.jpg',\n",
       " 'data/preprocessed/test/images/us8.jpg',\n",
       " 'data/preprocessed/test/images/wts-lg-000199.jpg',\n",
       " 'data/preprocessed/test/images/test_042.jpg',\n",
       " 'data/preprocessed/test/images/wts-lg-000158.jpg',\n",
       " 'data/preprocessed/test/images/NYI3834.jpg',\n",
       " 'data/preprocessed/test/images/eu1.jpg',\n",
       " 'data/preprocessed/test/images/OZK6717.jpg',\n",
       " 'data/preprocessed/test/images/wts-lg-000165.jpg',\n",
       " 'data/preprocessed/test/images/d4f79480-366a-40b6-ab2c-328bcba705b2.jpg',\n",
       " 'data/preprocessed/test/images/OKT3896.jpg',\n",
       " 'data/preprocessed/test/images/PJI5921.jpg',\n",
       " 'data/preprocessed/test/images/e73fd200-7ba4-4725-9d1d-2ec710864df6.jpg',\n",
       " 'data/preprocessed/test/images/test_033.jpg',\n",
       " 'data/preprocessed/test/images/PJF5797.jpg',\n",
       " 'data/preprocessed/test/images/OKM2371.jpg',\n",
       " 'data/preprocessed/test/images/test_025.jpg',\n",
       " 'data/preprocessed/test/images/JIT7463.jpg',\n",
       " 'data/preprocessed/test/images/test_018.jpg',\n",
       " 'data/preprocessed/test/images/NTO1053.jpg',\n",
       " 'data/preprocessed/test/images/test_020.jpg',\n",
       " 'data/preprocessed/test/images/PAG5219.jpg',\n",
       " 'data/preprocessed/test/images/JST2699.jpg',\n",
       " 'data/preprocessed/test/images/test_035.jpg',\n",
       " 'data/preprocessed/test/images/test_023.jpg',\n",
       " 'data/preprocessed/test/images/wts-lg-000073.jpg',\n",
       " 'data/preprocessed/test/images/wts-lg-000099.jpg']"
      ]
     },
     "execution_count": 2,
     "metadata": {},
     "output_type": "execute_result"
    }
   ],
   "source": [
    "import glob\n",
    "target = glob.glob('data/preprocessed/test/images/*')[:]\n",
    "target"
   ]
  },
  {
   "cell_type": "code",
   "execution_count": 3,
   "metadata": {},
   "outputs": [
    {
     "data": {
      "text/plain": [
       "['6XIU641',\n",
       " '4FCW533',\n",
       " 'OUH9191',\n",
       " 'OYJ9557',\n",
       " 'TRZ951',\n",
       " '5LTA600',\n",
       " 'CWM3083',\n",
       " '5TQY867',\n",
       " '6RJN062',\n",
       " 'FD7U4U',\n",
       " 'NZW2197',\n",
       " 'LM633BD',\n",
       " '853FL',\n",
       " 'NYY1710',\n",
       " '5AZL613',\n",
       " '2MFZ746',\n",
       " 'HL0KTY1',\n",
       " '1365847',\n",
       " '7CID930',\n",
       " 'MYX3152',\n",
       " 'PJF4224',\n",
       " 'TTP488',\n",
       " 'PH5M9Y',\n",
       " 'RK735AS',\n",
       " 'PYB6477',\n",
       " '4KBZ265',\n",
       " 'ZA834CO',\n",
       " 'MT456BJ',\n",
       " 'EUS664',\n",
       " 'OZS6477',\n",
       " 'RZN384',\n",
       " 'BA302OZ',\n",
       " '75061H1',\n",
       " 'RK376AF',\n",
       " 'PXP8172',\n",
       " '378DXR',\n",
       " 'BB135BO',\n",
       " 'OKP7250',\n",
       " 'NZP8292',\n",
       " 'OZL2318',\n",
       " 'DL3C2Z',\n",
       " 'OUW5216',\n",
       " 'EAZ6913',\n",
       " 'J868321',\n",
       " 'BA268IM',\n",
       " 'CWM2998',\n",
       " 'NYI3834',\n",
       " 'M5XSX',\n",
       " 'OZK6717',\n",
       " 'CGT2069',\n",
       " 'FB5X8T',\n",
       " 'OKT3896',\n",
       " 'PJI5921',\n",
       " '8FV480',\n",
       " 'RKO82AL',\n",
       " 'PJF5797',\n",
       " 'OKM2371',\n",
       " 'RK896AO',\n",
       " 'JIT7463',\n",
       " 'RK884AL',\n",
       " 'NTO1053',\n",
       " 'RK906AJ',\n",
       " 'PAG5219',\n",
       " 'JST2699',\n",
       " 'BA738DE',\n",
       " 'RK612AL',\n",
       " '5VDA555',\n",
       " 'UG9L8U']"
      ]
     },
     "execution_count": 3,
     "metadata": {},
     "output_type": "execute_result"
    }
   ],
   "source": [
    "from app.helpers import get_label_paths, get_LP\n",
    "\n",
    "annots = get_label_paths(target)\n",
    "GTS = get_LP(annots)\n",
    "GTS"
   ]
  },
  {
   "cell_type": "code",
   "execution_count": null,
   "metadata": {},
   "outputs": [],
   "source": [
    "# from app.model import inference_pipe\n",
    "\n",
    "# _, ocr_res, cropped = inference_pipe(target, return_cropped_images=True)"
   ]
  },
  {
   "cell_type": "code",
   "execution_count": null,
   "metadata": {},
   "outputs": [],
   "source": [
    "from app.model import get_detection_model\n",
    "\n",
    "yolo_model = get_detection_model()"
   ]
  },
  {
   "cell_type": "code",
   "execution_count": null,
   "metadata": {},
   "outputs": [],
   "source": [
    "yolo_model.val(data=\"data/preprocessed/data.yaml\", split=\"test\")"
   ]
  },
  {
   "cell_type": "code",
   "execution_count": null,
   "metadata": {},
   "outputs": [],
   "source": [
    "from app.model import predict_single_sample\n",
    "from app.model import inference_pipe\n",
    "from app.model import ocr_easy_interface, ocr_llm_interface\n",
    "\n",
    "out = inference_pipe(target, predict_single_sample, ocr_easy_interface,\n",
    "                      return_cropped_images=True, device='cpu')"
   ]
  },
  {
   "cell_type": "code",
   "execution_count": null,
   "metadata": {},
   "outputs": [],
   "source": [
    "out_lp = out[0]\n",
    "print(len(out_lp))\n",
    "out_lp\n"
   ]
  },
  {
   "cell_type": "code",
   "execution_count": null,
   "metadata": {},
   "outputs": [],
   "source": [
    "from app.model import character_error_rate\n",
    "\n",
    "character_error_rate(GTS, out_lp)"
   ]
  },
  {
   "cell_type": "code",
   "execution_count": null,
   "metadata": {},
   "outputs": [],
   "source": [
    "from app.model import predict_single_sample\n",
    "from app.model import inference_pipe\n",
    "from app.model import ocr_easy_interface, ocr_llm_interface\n",
    "\n",
    "out = inference_pipe(target, predict_single_sample, ocr_llm_interface,\n",
    "                      return_cropped_images=True, device='cpu')\n",
    "\n",
    "out_lp = out[0]\n",
    "print(len(out_lp))\n",
    "out_lp\n"
   ]
  },
  {
   "cell_type": "code",
   "execution_count": null,
   "metadata": {},
   "outputs": [],
   "source": [
    "from app.model import character_error_rate\n",
    "\n",
    "character_error_rate(GTS, out_lp)"
   ]
  },
  {
   "cell_type": "code",
   "execution_count": null,
   "metadata": {},
   "outputs": [],
   "source": []
  },
  {
   "cell_type": "code",
   "execution_count": null,
   "metadata": {},
   "outputs": [],
   "source": [
    "from PIL import Image\n",
    "sample_im = Image.open(target[2])"
   ]
  },
  {
   "cell_type": "code",
   "execution_count": null,
   "metadata": {},
   "outputs": [],
   "source": [
    "sample_im"
   ]
  },
  {
   "cell_type": "code",
   "execution_count": null,
   "metadata": {},
   "outputs": [],
   "source": [
    "sample_out = yolo_model.predict(target[2], iou=0.5)"
   ]
  },
  {
   "cell_type": "code",
   "execution_count": null,
   "metadata": {},
   "outputs": [],
   "source": [
    "sample_out[0]"
   ]
  },
  {
   "cell_type": "code",
   "execution_count": null,
   "metadata": {},
   "outputs": [],
   "source": [
    "sample_out[0].boxes.xyxy.detach().cpu().numpy()"
   ]
  },
  {
   "cell_type": "code",
   "execution_count": null,
   "metadata": {},
   "outputs": [],
   "source": [
    "crop_sample = sample_im.crop(sample_out[0].boxes.xyxy[0].detach().cpu().numpy())\n",
    "crop_sample"
   ]
  },
  {
   "cell_type": "code",
   "execution_count": null,
   "metadata": {},
   "outputs": [],
   "source": [
    "sample_im.crop(sample_out[0].boxes.xyxy[1].detach().cpu().numpy())"
   ]
  },
  {
   "cell_type": "code",
   "execution_count": null,
   "metadata": {},
   "outputs": [],
   "source": [
    "from app.model impor t"
   ]
  },
  {
   "cell_type": "code",
   "execution_count": null,
   "metadata": {},
   "outputs": [],
   "source": [
    "target[:2]"
   ]
  },
  {
   "cell_type": "code",
   "execution_count": null,
   "metadata": {},
   "outputs": [],
   "source": [
    "GTS"
   ]
  },
  {
   "cell_type": "code",
   "execution_count": null,
   "metadata": {},
   "outputs": [],
   "source": [
    "GTS[:2]"
   ]
  },
  {
   "cell_type": "code",
   "execution_count": 9,
   "metadata": {},
   "outputs": [
    {
     "name": "stdout",
     "output_type": "stream",
     "text": [
      "Prediction successful:\n",
      "{'predictions': {'0': '6Xiu641]', '1': 'Leci533'}, 'cer': 0.5}\n"
     ]
    }
   ],
   "source": [
    "import requests\n",
    "\n",
    "url = 'http://0.0.0.0:8000/predict'  # Replace with your FastAPI server address\n",
    "\n",
    "data = {\n",
    "    \"images\": target[:2], \n",
    "    \"ground_truth\": GTS[:2]\n",
    "}\n",
    "\n",
    "headers = {\n",
    "    'accept': 'application/json',\n",
    "    'Content-Type': 'application/json'\n",
    "}\n",
    "\n",
    "response = requests.post(url, json=data, headers=headers)\n",
    "\n",
    "if response.status_code == 200:\n",
    "    print(\"Prediction successful:\")\n",
    "    print(response.json())\n",
    "else:\n",
    "    print(f\"Error: {response.status_code}\")\n",
    "    print(response.text)"
   ]
  },
  {
   "cell_type": "code",
   "execution_count": null,
   "metadata": {},
   "outputs": [],
   "source": [
    "## dumb requirements into a file\n",
    "\n",
    "!pip freeze > requirements.txt"
   ]
  }
 ],
 "metadata": {
  "kernelspec": {
   "display_name": "DL_2",
   "language": "python",
   "name": "python3"
  },
  "language_info": {
   "codemirror_mode": {
    "name": "ipython",
    "version": 3
   },
   "file_extension": ".py",
   "mimetype": "text/x-python",
   "name": "python",
   "nbconvert_exporter": "python",
   "pygments_lexer": "ipython3",
   "version": "3.10.6"
  }
 },
 "nbformat": 4,
 "nbformat_minor": 2
}
